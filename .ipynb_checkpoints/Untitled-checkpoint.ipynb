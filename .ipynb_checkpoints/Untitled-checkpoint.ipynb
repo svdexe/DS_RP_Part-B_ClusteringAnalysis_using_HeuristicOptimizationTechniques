{
 "cells": [
  {
   "cell_type": "code",
   "execution_count": 2,
   "metadata": {},
   "outputs": [
    {
     "ename": "ModuleNotFoundError",
     "evalue": "No module named 'matplotlib'",
     "output_type": "error",
     "traceback": [
      "\u001b[1;31m---------------------------------------------------------------------------\u001b[0m",
      "\u001b[1;31mModuleNotFoundError\u001b[0m                       Traceback (most recent call last)",
      "Cell \u001b[1;32mIn[2], line 3\u001b[0m\n\u001b[0;32m      1\u001b[0m \u001b[38;5;28;01mimport\u001b[39;00m \u001b[38;5;21;01mpandas\u001b[39;00m \u001b[38;5;28;01mas\u001b[39;00m \u001b[38;5;21;01mpd\u001b[39;00m\n\u001b[0;32m      2\u001b[0m \u001b[38;5;28;01mimport\u001b[39;00m \u001b[38;5;21;01mnumpy\u001b[39;00m \u001b[38;5;28;01mas\u001b[39;00m \u001b[38;5;21;01mnp\u001b[39;00m\n\u001b[1;32m----> 3\u001b[0m \u001b[38;5;28;01mimport\u001b[39;00m \u001b[38;5;21;01mmatplotlib\u001b[39;00m\u001b[38;5;21;01m.\u001b[39;00m\u001b[38;5;21;01mpyplot\u001b[39;00m \u001b[38;5;28;01mas\u001b[39;00m \u001b[38;5;21;01mplt\u001b[39;00m\n\u001b[0;32m      4\u001b[0m get_ipython()\u001b[38;5;241m.\u001b[39mrun_line_magic(\u001b[38;5;124m'\u001b[39m\u001b[38;5;124mmatplotlib\u001b[39m\u001b[38;5;124m'\u001b[39m, \u001b[38;5;124m'\u001b[39m\u001b[38;5;124minline\u001b[39m\u001b[38;5;124m'\u001b[39m)\n",
      "\u001b[1;31mModuleNotFoundError\u001b[0m: No module named 'matplotlib'"
     ]
    }
   ],
   "source": [
    "import pandas as pd\n",
    "import numpy as np\n",
    "import matplotlib.pyplot as plt\n",
    "%matplotlib inline"
   ]
  },
  {
   "cell_type": "code",
   "execution_count": 4,
   "metadata": {},
   "outputs": [
    {
     "ename": "NameError",
     "evalue": "name 'pd' is not defined",
     "output_type": "error",
     "traceback": [
      "\u001b[1;31m---------------------------------------------------------------------------\u001b[0m",
      "\u001b[1;31mNameError\u001b[0m                                 Traceback (most recent call last)",
      "Cell \u001b[1;32mIn[4], line 1\u001b[0m\n\u001b[1;32m----> 1\u001b[0m data \u001b[38;5;241m=\u001b[39m \u001b[43mpd\u001b[49m\u001b[38;5;241m.\u001b[39mread_csv(\u001b[38;5;124m'\u001b[39m\u001b[38;5;124mseed.txt\u001b[39m\u001b[38;5;124m'\u001b[39m, sep\u001b[38;5;241m=\u001b[39m\u001b[38;5;124m'\u001b[39m\u001b[38;5;130;01m\\t\u001b[39;00m\u001b[38;5;124m'\u001b[39m, header\u001b[38;5;241m=\u001b[39m\u001b[38;5;28;01mNone\u001b[39;00m)\n\u001b[0;32m      2\u001b[0m data\u001b[38;5;241m.\u001b[39mhead()\n",
      "\u001b[1;31mNameError\u001b[0m: name 'pd' is not defined"
     ]
    }
   ],
   "source": [
    "data = pd.read_csv('seed.txt', sep='\\t', header=None)\n",
    "data.head()"
   ]
  },
  {
   "cell_type": "code",
   "execution_count": 7,
   "metadata": {},
   "outputs": [],
   "source": [
    "from pso import ParticleSwarmOptimizedClustering\n",
    "from particle import quantization_error, calc_sse\n",
    "from utils import normalize\n",
    "from kmeans import KMeans\n",
    "from sklearn.metrics import silhouette_score"
   ]
  },
  {
   "cell_type": "code",
   "execution_count": 8,
   "metadata": {},
   "outputs": [],
   "source": [
    "x = data.drop([7], axis=1)\n",
    "x = x.values\n",
    "x = normalize(x)"
   ]
  },
  {
   "cell_type": "markdown",
   "metadata": {},
   "source": [
    "# K-Means"
   ]
  },
  {
   "cell_type": "code",
   "execution_count": 9,
   "metadata": {},
   "outputs": [],
   "source": [
    "kmeans = KMeans(n_cluster=3, init_pp=False, seed=2018)\n",
    "kmeans.fit(x)"
   ]
  },
  {
   "cell_type": "code",
   "execution_count": 10,
   "metadata": {},
   "outputs": [
    {
     "name": "stdout",
     "output_type": "stream",
     "text": [
      "Silhouette: 0.4221267624201065\n",
      "SSE: 22.026451226606625\n",
      "Quantization: 0.30155146657476695\n"
     ]
    }
   ],
   "source": [
    "predicted_kmeans = kmeans.predict(x)\n",
    "print('Silhouette:', silhouette_score(x, predicted_kmeans))\n",
    "print('SSE:', kmeans.SSE)\n",
    "print('Quantization:', quantization_error(centroids=kmeans.centroid, data=x, labels=predicted_kmeans))"
   ]
  },
  {
   "cell_type": "code",
   "execution_count": 11,
   "metadata": {},
   "outputs": [
    {
     "name": "stdout",
     "output_type": "stream",
     "text": [
      "Silhouette: 0.4221267624201065\n",
      "SSE: 22.024363075666038\n",
      "Quantization: 0.30166461874754386\n"
     ]
    }
   ],
   "source": [
    "kmeans2 = KMeans(n_cluster=3, init_pp=True, seed=2018)\n",
    "kmeans2.fit(x)\n",
    "predicted_kmeans2 = kmeans2.predict(x)\n",
    "print('Silhouette:', silhouette_score(x, predicted_kmeans))\n",
    "print('SSE:', kmeans2.SSE)\n",
    "print('Quantization:', quantization_error(centroids=kmeans2.centroid, data=x, labels=predicted_kmeans2))"
   ]
  },
  {
   "cell_type": "markdown",
   "metadata": {},
   "source": [
    "# PSO"
   ]
  },
  {
   "cell_type": "code",
   "execution_count": 12,
   "metadata": {},
   "outputs": [],
   "source": [
    "pso = ParticleSwarmOptimizedClustering(\n",
    "        n_cluster=3, n_particles=10, data=x, hybrid=True, max_iter=2000, print_debug=50)"
   ]
  },
  {
   "cell_type": "code",
   "execution_count": 13,
   "metadata": {},
   "outputs": [
    {
     "name": "stdout",
     "output_type": "stream",
     "text": [
      "Initial global best score 0.30166461874754386\n",
      "Iteration 0001/2000 current gbest score 0.301664618747543856\n",
      "Iteration 0051/2000 current gbest score 0.301530435970984001\n",
      "Iteration 0101/2000 current gbest score 0.301246493581098396\n",
      "Iteration 0151/2000 current gbest score 0.301131063618734818\n",
      "Iteration 0201/2000 current gbest score 0.301119488009422731\n",
      "Iteration 0251/2000 current gbest score 0.301118592547253927\n",
      "Iteration 0301/2000 current gbest score 0.301118168449150569\n",
      "Iteration 0351/2000 current gbest score 0.301118003803172940\n",
      "Iteration 0401/2000 current gbest score 0.301117925167816602\n",
      "Iteration 0451/2000 current gbest score 0.301117903621808181\n",
      "Iteration 0501/2000 current gbest score 0.301117894581790058\n",
      "Iteration 0551/2000 current gbest score 0.301117884645535128\n",
      "Iteration 0601/2000 current gbest score 0.301117878766865077\n",
      "Iteration 0651/2000 current gbest score 0.301117874951726650\n",
      "Iteration 0701/2000 current gbest score 0.301117873970024819\n",
      "Iteration 0751/2000 current gbest score 0.301117873531522695\n",
      "Iteration 0801/2000 current gbest score 0.301117873338092312\n",
      "Iteration 0851/2000 current gbest score 0.301117873268718916\n",
      "Iteration 0901/2000 current gbest score 0.301117873225027088\n",
      "Iteration 0951/2000 current gbest score 0.301117873207793263\n",
      "Iteration 1001/2000 current gbest score 0.301117873199771069\n",
      "Iteration 1051/2000 current gbest score 0.301117873194472530\n",
      "Iteration 1101/2000 current gbest score 0.301117873191729835\n",
      "Iteration 1151/2000 current gbest score 0.301117873190616558\n",
      "Iteration 1201/2000 current gbest score 0.301117873190157315\n",
      "Iteration 1251/2000 current gbest score 0.301117873189899632\n",
      "Iteration 1301/2000 current gbest score 0.301117873189576557\n",
      "Iteration 1351/2000 current gbest score 0.301117873189051810\n",
      "Iteration 1401/2000 current gbest score 0.301117873188269047\n",
      "Iteration 1451/2000 current gbest score 0.301117873187390694\n",
      "Iteration 1501/2000 current gbest score 0.301117873186835361\n",
      "Iteration 1551/2000 current gbest score 0.301117873186336205\n",
      "Iteration 1601/2000 current gbest score 0.301117873185938356\n",
      "Iteration 1651/2000 current gbest score 0.301117873185754170\n",
      "Iteration 1701/2000 current gbest score 0.301117873185685059\n",
      "Iteration 1751/2000 current gbest score 0.301117873185640317\n",
      "Iteration 1801/2000 current gbest score 0.301117873185626439\n",
      "Iteration 1851/2000 current gbest score 0.301117873185618223\n",
      "Iteration 1901/2000 current gbest score 0.301117873185609064\n",
      "Iteration 1951/2000 current gbest score 0.301117873185601237\n",
      "Finish with gbest score 0.301117873185594409\n"
     ]
    }
   ],
   "source": [
    "hist = pso.run()"
   ]
  },
  {
   "cell_type": "code",
   "execution_count": 14,
   "metadata": {},
   "outputs": [],
   "source": [
    "pso_kmeans = KMeans(n_cluster=3, init_pp=False, seed=2018)"
   ]
  },
  {
   "cell_type": "code",
   "execution_count": 15,
   "metadata": {},
   "outputs": [
    {
     "data": {
      "text/plain": [
       "array([[0.76640635, 0.80106655, 0.70501811, 0.73618774, 0.77954643,\n",
       "        0.34616409, 0.75643494],\n",
       "       [0.12297356, 0.17411279, 0.38077529, 0.1859815 , 0.16483633,\n",
       "        0.50057702, 0.27994542],\n",
       "       [0.380113  , 0.41709821, 0.66651837, 0.36819959, 0.46459734,\n",
       "        0.26501223, 0.3125601 ]])"
      ]
     },
     "execution_count": 15,
     "metadata": {},
     "output_type": "execute_result"
    }
   ],
   "source": [
    "pso_kmeans.centroid = pso.gbest_centroids.copy()\n",
    "pso_kmeans.centroid"
   ]
  },
  {
   "cell_type": "code",
   "execution_count": 16,
   "metadata": {},
   "outputs": [
    {
     "name": "stdout",
     "output_type": "stream",
     "text": [
      "Silhouette: 0.4221267624201065\n",
      "SSE: 22.077653418909577\n",
      "Quantization: 0.3011178731855944\n"
     ]
    }
   ],
   "source": [
    "predicted_pso = pso_kmeans.predict(x)\n",
    "print('Silhouette:', silhouette_score(x, predicted_pso))\n",
    "print('SSE:', calc_sse(centroids=pso.gbest_centroids, data=x, labels=predicted_pso))\n",
    "print('Quantization:', pso.gbest_score)"
   ]
  },
  {
   "cell_type": "markdown",
   "metadata": {},
   "source": [
    "# Repeated Test"
   ]
  },
  {
   "cell_type": "markdown",
   "metadata": {},
   "source": [
    "### K-Means++"
   ]
  },
  {
   "cell_type": "code",
   "execution_count": 17,
   "metadata": {},
   "outputs": [],
   "source": [
    "kmeanspp = {\n",
    "    'silhouette': [],\n",
    "    'sse' : [],\n",
    "    'quantization' : [],\n",
    "}\n",
    "for _ in range(20):\n",
    "    kmean_rep = KMeans(n_cluster=3, init_pp=True)\n",
    "    kmean_rep.fit(x)\n",
    "    predicted_kmean_rep = kmean_rep.predict(x)\n",
    "    silhouette = silhouette_score(x, predicted_kmean_rep)\n",
    "    sse = kmean_rep.SSE\n",
    "    quantization = quantization_error(centroids=kmean_rep.centroid, data=x, labels=predicted_kmean_rep)\n",
    "    kmeanspp['silhouette'].append(silhouette)\n",
    "    kmeanspp['sse'].append(sse)\n",
    "    kmeanspp['quantization'].append(quantization)"
   ]
  },
  {
   "cell_type": "markdown",
   "metadata": {},
   "source": [
    "### PSO "
   ]
  },
  {
   "cell_type": "code",
   "execution_count": 18,
   "metadata": {},
   "outputs": [
    {
     "name": "stdout",
     "output_type": "stream",
     "text": [
      "Initial global best score 0.3617105399517535\n",
      "Iteration 0001/2000 current gbest score 0.361710539951753507\n",
      "Finish with gbest score 0.305641519218495528\n",
      "Initial global best score 0.34371607973973806\n",
      "Iteration 0001/2000 current gbest score 0.343716079739738056\n",
      "Finish with gbest score 0.317904786517513360\n",
      "Initial global best score 0.36780708437814785\n",
      "Iteration 0001/2000 current gbest score 0.367807084378147853\n",
      "Finish with gbest score 0.335791407903525740\n",
      "Initial global best score 0.3741865052006312\n",
      "Iteration 0001/2000 current gbest score 0.357001975957334239\n"
     ]
    },
    {
     "name": "stderr",
     "output_type": "stream",
     "text": [
      "d:\\UniAdelaide\\UniAdelaide_trimester_6\\particle-swarm-optimized-clustering\\particle.py:14: RuntimeWarning: invalid value encountered in scalar divide\n",
      "  dist /= len(idx)\n"
     ]
    },
    {
     "name": "stdout",
     "output_type": "stream",
     "text": [
      "Finish with gbest score 0.328786011365069075\n",
      "Initial global best score 0.3512698552908576\n",
      "Iteration 0001/2000 current gbest score 0.329959807203160871\n",
      "Finish with gbest score 0.307856729085487502\n",
      "Initial global best score 0.3973251113074803\n",
      "Iteration 0001/2000 current gbest score 0.392086385669132176\n"
     ]
    },
    {
     "name": "stderr",
     "output_type": "stream",
     "text": [
      "d:\\UniAdelaide\\UniAdelaide_trimester_6\\particle-swarm-optimized-clustering\\particle.py:14: RuntimeWarning: invalid value encountered in scalar divide\n",
      "  dist /= len(idx)\n"
     ]
    },
    {
     "name": "stdout",
     "output_type": "stream",
     "text": [
      "Finish with gbest score 0.334177517428262238\n",
      "Initial global best score 0.40842576129906655\n",
      "Iteration 0001/2000 current gbest score 0.392661749171520136\n",
      "Finish with gbest score 0.339040437918887660\n",
      "Initial global best score 0.35235196875053454\n",
      "Iteration 0001/2000 current gbest score 0.352351968750534539\n",
      "Finish with gbest score 0.312820894560843110\n",
      "Initial global best score 0.352606737445243\n",
      "Iteration 0001/2000 current gbest score 0.352606737445243013\n",
      "Finish with gbest score 0.306303893313251530\n",
      "Initial global best score 0.355009558589699\n",
      "Iteration 0001/2000 current gbest score 0.355009558589699015\n",
      "Finish with gbest score 0.327544951609474666\n",
      "Initial global best score 0.3958329597176247\n",
      "Iteration 0001/2000 current gbest score 0.393837622982138036\n"
     ]
    },
    {
     "name": "stderr",
     "output_type": "stream",
     "text": [
      "d:\\UniAdelaide\\UniAdelaide_trimester_6\\particle-swarm-optimized-clustering\\particle.py:14: RuntimeWarning: invalid value encountered in scalar divide\n",
      "  dist /= len(idx)\n"
     ]
    },
    {
     "name": "stdout",
     "output_type": "stream",
     "text": [
      "Finish with gbest score 0.333901387263665972\n",
      "Initial global best score 0.38287697626757183\n",
      "Iteration 0001/2000 current gbest score 0.365614284082737495\n",
      "Finish with gbest score 0.326951395565490965\n",
      "Initial global best score 0.39121453329678996\n",
      "Iteration 0001/2000 current gbest score 0.388213698925619355\n"
     ]
    },
    {
     "name": "stderr",
     "output_type": "stream",
     "text": [
      "d:\\UniAdelaide\\UniAdelaide_trimester_6\\particle-swarm-optimized-clustering\\particle.py:14: RuntimeWarning: invalid value encountered in scalar divide\n",
      "  dist /= len(idx)\n"
     ]
    },
    {
     "name": "stdout",
     "output_type": "stream",
     "text": [
      "Finish with gbest score 0.329257342237316619\n",
      "Initial global best score 0.3758516252811644\n",
      "Iteration 0001/2000 current gbest score 0.370381675972170143\n"
     ]
    },
    {
     "name": "stderr",
     "output_type": "stream",
     "text": [
      "d:\\UniAdelaide\\UniAdelaide_trimester_6\\particle-swarm-optimized-clustering\\particle.py:14: RuntimeWarning: invalid value encountered in scalar divide\n",
      "  dist /= len(idx)\n"
     ]
    },
    {
     "name": "stdout",
     "output_type": "stream",
     "text": [
      "Finish with gbest score 0.314776145956207343\n",
      "Initial global best score 0.370465627696307\n",
      "Iteration 0001/2000 current gbest score 0.370465627696306976\n",
      "Finish with gbest score 0.322589157789306247\n",
      "Initial global best score 0.34026650231638095\n",
      "Iteration 0001/2000 current gbest score 0.331709021415022898\n",
      "Finish with gbest score 0.313885373768033993\n",
      "Initial global best score 0.3753768033722515\n",
      "Iteration 0001/2000 current gbest score 0.375376803372251489\n"
     ]
    },
    {
     "name": "stderr",
     "output_type": "stream",
     "text": [
      "d:\\UniAdelaide\\UniAdelaide_trimester_6\\particle-swarm-optimized-clustering\\particle.py:14: RuntimeWarning: invalid value encountered in scalar divide\n",
      "  dist /= len(idx)\n"
     ]
    },
    {
     "name": "stdout",
     "output_type": "stream",
     "text": [
      "Finish with gbest score 0.327915126711963378\n",
      "Initial global best score 0.3692182472380037\n",
      "Iteration 0001/2000 current gbest score 0.369218247238003727\n"
     ]
    },
    {
     "name": "stderr",
     "output_type": "stream",
     "text": [
      "d:\\UniAdelaide\\UniAdelaide_trimester_6\\particle-swarm-optimized-clustering\\particle.py:14: RuntimeWarning: invalid value encountered in scalar divide\n",
      "  dist /= len(idx)\n"
     ]
    },
    {
     "name": "stdout",
     "output_type": "stream",
     "text": [
      "Finish with gbest score 0.319779391059682838\n",
      "Initial global best score 0.3581826003567479\n",
      "Iteration 0001/2000 current gbest score 0.358182600356747927\n",
      "Finish with gbest score 0.319163789438223378\n",
      "Initial global best score 0.3536015306771876\n",
      "Iteration 0001/2000 current gbest score 0.353601530677187581\n"
     ]
    },
    {
     "name": "stderr",
     "output_type": "stream",
     "text": [
      "d:\\UniAdelaide\\UniAdelaide_trimester_6\\particle-swarm-optimized-clustering\\particle.py:14: RuntimeWarning: invalid value encountered in scalar divide\n",
      "  dist /= len(idx)\n"
     ]
    },
    {
     "name": "stdout",
     "output_type": "stream",
     "text": [
      "Finish with gbest score 0.321375426921985397\n",
      "CPU times: total: 1min 16s\n",
      "Wall time: 1min 21s\n"
     ]
    }
   ],
   "source": [
    "%%time\n",
    "pso_plain = {\n",
    "    'silhouette': [],\n",
    "    'sse' : [],\n",
    "    'quantization' : [],\n",
    "}\n",
    "for _ in range(20):\n",
    "    pso_rep = ParticleSwarmOptimizedClustering(\n",
    "        n_cluster=3, n_particles=10, data=x, hybrid=False, max_iter=2000, print_debug=2000)\n",
    "    pso_rep.run()\n",
    "    pso_kmeans = KMeans(n_cluster=3, init_pp=False, seed=2018)\n",
    "    pso_kmeans.centroid = pso_rep.gbest_centroids.copy()\n",
    "    predicted_pso_rep = pso_kmeans.predict(x)\n",
    "    \n",
    "    silhouette = silhouette_score(x, predicted_pso_rep)\n",
    "    sse = calc_sse(centroids=pso_rep.gbest_centroids, data=x, labels=predicted_pso_rep)\n",
    "    quantization = pso_rep.gbest_score\n",
    "    pso_plain['silhouette'].append(silhouette)\n",
    "    pso_plain['sse'].append(sse)\n",
    "    pso_plain['quantization'].append(quantization)"
   ]
  },
  {
   "cell_type": "markdown",
   "metadata": {},
   "source": [
    "### PSO Hybrid"
   ]
  },
  {
   "cell_type": "code",
   "execution_count": 30,
   "metadata": {},
   "outputs": [
    {
     "name": "stdout",
     "output_type": "stream",
     "text": [
      "Initial global best score 2.70829286554\n",
      "Iteration 0001/2000 current gbest score 2.708292865537892169\n",
      "Finish with gbest score 2.707647699944975894\n",
      "Initial global best score 2.70829286554\n",
      "Iteration 0001/2000 current gbest score 2.708292865537892169\n",
      "Finish with gbest score 2.707904781184771181\n",
      "Initial global best score 2.70759080945\n",
      "Iteration 0001/2000 current gbest score 2.707590809454386349\n",
      "Finish with gbest score 2.707590809454386349\n",
      "Initial global best score 2.70829286554\n",
      "Iteration 0001/2000 current gbest score 2.708292865537892169\n",
      "Finish with gbest score 2.707619636849610156\n",
      "Initial global best score 2.70759080945\n",
      "Iteration 0001/2000 current gbest score 2.707590809454386349\n",
      "Finish with gbest score 2.707590809454386349\n",
      "Initial global best score 2.70759080945\n",
      "Iteration 0001/2000 current gbest score 2.707590809454386349\n",
      "Finish with gbest score 2.707590809454386349\n",
      "Initial global best score 2.70829286554\n",
      "Iteration 0001/2000 current gbest score 2.708292865537892169\n",
      "Finish with gbest score 2.707608767874855715\n",
      "Initial global best score 2.70829286554\n",
      "Iteration 0001/2000 current gbest score 2.708292865537892169\n",
      "Finish with gbest score 2.707633825629673030\n",
      "Initial global best score 2.70759080945\n",
      "Iteration 0001/2000 current gbest score 2.707590809454386349\n",
      "Finish with gbest score 2.707590809454386349\n",
      "Initial global best score 2.70829286554\n",
      "Iteration 0001/2000 current gbest score 2.708292865537892613\n",
      "Finish with gbest score 2.707615411009072659\n",
      "Initial global best score 2.70759080945\n",
      "Iteration 0001/2000 current gbest score 2.707590809454386349\n",
      "Finish with gbest score 2.707590809454386349\n",
      "Initial global best score 2.70829286554\n",
      "Iteration 0001/2000 current gbest score 2.708292865537892613\n",
      "Finish with gbest score 2.707753093758179741\n",
      "Initial global best score 2.70829286554\n",
      "Iteration 0001/2000 current gbest score 2.708292865537892613\n",
      "Finish with gbest score 2.707664676093269662\n",
      "Initial global best score 2.70759080945\n",
      "Iteration 0001/2000 current gbest score 2.707590809454386349\n",
      "Finish with gbest score 2.707590809454386349\n",
      "Initial global best score 2.70759080945\n",
      "Iteration 0001/2000 current gbest score 2.707590809454386349\n",
      "Finish with gbest score 2.707590809454386349\n",
      "Initial global best score 2.70759080945\n",
      "Iteration 0001/2000 current gbest score 2.707590809454386349\n",
      "Finish with gbest score 2.707590809454386349\n",
      "Initial global best score 2.70829286554\n",
      "Iteration 0001/2000 current gbest score 2.708292865537892613\n",
      "Finish with gbest score 2.707653815220209648\n",
      "Initial global best score 2.70759080945\n",
      "Iteration 0001/2000 current gbest score 2.707590809454386349\n",
      "Finish with gbest score 2.707590809454386349\n",
      "Initial global best score 2.70829286554\n",
      "Iteration 0001/2000 current gbest score 2.708292865537892613\n",
      "Finish with gbest score 2.707640278314846771\n",
      "Initial global best score 2.70829286554\n",
      "Iteration 0001/2000 current gbest score 2.708292865537892169\n",
      "Finish with gbest score 2.707838462205663266\n",
      "Wall time: 1min 51s\n"
     ]
    }
   ],
   "source": [
    "%%time\n",
    "pso_hybrid = {\n",
    "    'silhouette': [],\n",
    "    'sse' : [],\n",
    "    'quantization' : [],\n",
    "}\n",
    "for _ in range(20):\n",
    "    pso_rep = ParticleSwarmOptimizedClustering(\n",
    "        n_cluster=3, n_particles=10, data=x, hybrid=True, max_iter=2000, print_debug=2000)\n",
    "    pso_rep.run()\n",
    "    pso_kmeans = KMeans(n_cluster=3, init_pp=False, seed=2018)\n",
    "    pso_kmeans.centroid = pso_rep.gbest_centroids.copy()\n",
    "    predicted_pso_rep = pso_kmeans.predict(x)\n",
    "    \n",
    "    silhouette = silhouette_score(x, predicted_pso_rep)\n",
    "    sse = calc_sse(centroids=pso_rep.gbest_centroids, data=x, labels=predicted_pso_rep)\n",
    "    quantization = pso_rep.gbest_score\n",
    "    pso_hybrid['silhouette'].append(silhouette)\n",
    "    pso_hybrid['sse'].append(sse)\n",
    "    pso_hybrid['quantization'].append(quantization)"
   ]
  },
  {
   "cell_type": "markdown",
   "metadata": {},
   "source": [
    "# Comparison"
   ]
  },
  {
   "cell_type": "code",
   "execution_count": 33,
   "metadata": {},
   "outputs": [],
   "source": [
    "benchmark = {\n",
    "    'method' : ['K-Means++', 'PSO', 'PSO Hybrid'],\n",
    "    'sse_mean' : [\n",
    "        np.around(np.mean(kmeanspp['sse']), decimals=10),\n",
    "        np.around(np.mean(pso_plain['sse']), decimals=10),\n",
    "        np.around(np.mean(pso_hybrid['sse']), decimals=10),\n",
    "    ],\n",
    "    'sse_stdev' : [\n",
    "        np.around(np.std(kmeanspp['sse']), decimals=10),\n",
    "        np.around(np.std(pso_plain['sse']), decimals=10),\n",
    "        np.around(np.std(pso_hybrid['sse']), decimals=10),\n",
    "    ],\n",
    "    'silhouette_mean' : [\n",
    "        np.around(np.mean(kmeanspp['silhouette']), decimals=10),\n",
    "        np.around(np.mean(pso_plain['silhouette']), decimals=10),\n",
    "        np.around(np.mean(pso_hybrid['silhouette']), decimals=10),\n",
    "    ],\n",
    "    'silhouette_stdev' : [\n",
    "        np.around(np.std(kmeanspp['silhouette']), decimals=10),\n",
    "        np.around(np.std(pso_plain['silhouette']), decimals=10),\n",
    "        np.around(np.std(pso_hybrid['silhouette']), decimals=10),\n",
    "    ],\n",
    "    'quantization_mean' : [\n",
    "        np.around(np.mean(kmeanspp['quantization']), decimals=10),\n",
    "        np.around(np.mean(pso_plain['quantization']), decimals=10),\n",
    "        np.around(np.mean(pso_hybrid['quantization']), decimals=10),\n",
    "    ],\n",
    "    'quantization_stdev' : [\n",
    "        np.around(np.std(kmeanspp['quantization']), decimals=10),\n",
    "        np.around(np.std(pso_plain['quantization']), decimals=10),\n",
    "        np.around(np.std(pso_hybrid['quantization']), decimals=10),\n",
    "    ],\n",
    "}"
   ]
  },
  {
   "cell_type": "code",
   "execution_count": 34,
   "metadata": {},
   "outputs": [
    {
     "data": {
      "text/plain": [
       "{'method': ['K-Means++', 'PSO', 'PSO Hybrid'],\n",
       " 'quantization_mean': [2.7082928654999998,\n",
       "  2.8964455008000001,\n",
       "  2.7076448866999998],\n",
       " 'quantization_stdev': [0.0, 0.1117984798, 8.5579899999999997e-05],\n",
       " 'silhouette_mean': [0.42210525679999999, 0.3781104596, 0.42212676240000002],\n",
       " 'silhouette_stdev': [0.0, 0.063243413799999995, 0.0],\n",
       " 'sse_mean': [22.024363075699998, 28.695969913300001, 22.027339630299998],\n",
       " 'sse_stdev': [0.0, 5.6574814616999998, 0.0014085896]}"
      ]
     },
     "execution_count": 34,
     "metadata": {},
     "output_type": "execute_result"
    }
   ],
   "source": [
    "benchmark"
   ]
  },
  {
   "cell_type": "code",
   "execution_count": 35,
   "metadata": {},
   "outputs": [
    {
     "data": {
      "text/html": [
       "<div>\n",
       "<style>\n",
       "    .dataframe thead tr:only-child th {\n",
       "        text-align: right;\n",
       "    }\n",
       "\n",
       "    .dataframe thead th {\n",
       "        text-align: left;\n",
       "    }\n",
       "\n",
       "    .dataframe tbody tr th {\n",
       "        vertical-align: top;\n",
       "    }\n",
       "</style>\n",
       "<table border=\"1\" class=\"dataframe\">\n",
       "  <thead>\n",
       "    <tr style=\"text-align: right;\">\n",
       "      <th></th>\n",
       "      <th>method</th>\n",
       "      <th>quantization_mean</th>\n",
       "      <th>quantization_stdev</th>\n",
       "      <th>silhouette_mean</th>\n",
       "      <th>silhouette_stdev</th>\n",
       "      <th>sse_mean</th>\n",
       "      <th>sse_stdev</th>\n",
       "    </tr>\n",
       "  </thead>\n",
       "  <tbody>\n",
       "    <tr>\n",
       "      <th>0</th>\n",
       "      <td>K-Means++</td>\n",
       "      <td>2.708293</td>\n",
       "      <td>0.000000</td>\n",
       "      <td>0.422105</td>\n",
       "      <td>0.000000</td>\n",
       "      <td>22.024363</td>\n",
       "      <td>0.000000</td>\n",
       "    </tr>\n",
       "    <tr>\n",
       "      <th>1</th>\n",
       "      <td>PSO</td>\n",
       "      <td>2.896446</td>\n",
       "      <td>0.111798</td>\n",
       "      <td>0.378110</td>\n",
       "      <td>0.063243</td>\n",
       "      <td>28.695970</td>\n",
       "      <td>5.657481</td>\n",
       "    </tr>\n",
       "    <tr>\n",
       "      <th>2</th>\n",
       "      <td>PSO Hybrid</td>\n",
       "      <td>2.707645</td>\n",
       "      <td>0.000086</td>\n",
       "      <td>0.422127</td>\n",
       "      <td>0.000000</td>\n",
       "      <td>22.027340</td>\n",
       "      <td>0.001409</td>\n",
       "    </tr>\n",
       "  </tbody>\n",
       "</table>\n",
       "</div>"
      ],
      "text/plain": [
       "       method  quantization_mean  quantization_stdev  silhouette_mean  \\\n",
       "0   K-Means++           2.708293            0.000000         0.422105   \n",
       "1         PSO           2.896446            0.111798         0.378110   \n",
       "2  PSO Hybrid           2.707645            0.000086         0.422127   \n",
       "\n",
       "   silhouette_stdev   sse_mean  sse_stdev  \n",
       "0          0.000000  22.024363   0.000000  \n",
       "1          0.063243  28.695970   5.657481  \n",
       "2          0.000000  22.027340   0.001409  "
      ]
     },
     "execution_count": 35,
     "metadata": {},
     "output_type": "execute_result"
    }
   ],
   "source": [
    "benchmark_df = pd.DataFrame.from_dict(benchmark)\n",
    "benchmark_df"
   ]
  },
  {
   "cell_type": "code",
   "execution_count": 37,
   "metadata": {},
   "outputs": [],
   "source": [
    "benchmark_df.to_excel('benchmark_res.xlsx', index=False)"
   ]
  },
  {
   "cell_type": "code",
   "execution_count": 38,
   "metadata": {},
   "outputs": [],
   "source": [
    "benchmark_df.to_csv('benchmark_res.csv', index=False)"
   ]
  },
  {
   "cell_type": "code",
   "execution_count": null,
   "metadata": {},
   "outputs": [],
   "source": []
  }
 ],
 "metadata": {
  "kernelspec": {
   "display_name": "Python 3",
   "language": "python",
   "name": "python3"
  },
  "language_info": {
   "codemirror_mode": {
    "name": "ipython",
    "version": 3
   },
   "file_extension": ".py",
   "mimetype": "text/x-python",
   "name": "python",
   "nbconvert_exporter": "python",
   "pygments_lexer": "ipython3",
   "version": "3.10.14"
  }
 },
 "nbformat": 4,
 "nbformat_minor": 2
}
